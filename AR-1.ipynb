{
 "cells": [
  {
   "cell_type": "code",
   "execution_count": 69,
   "metadata": {},
   "outputs": [
    {
     "name": "stdout",
     "output_type": "stream",
     "text": [
      "The autoreload extension is already loaded. To reload it, use:\n",
      "  %reload_ext autoreload\n"
     ]
    }
   ],
   "source": [
    "import pandas as pd\n",
    "import numpy as np\n",
    "import gpflow\n",
    "import matplotlib.pyplot as plt\n",
    "import utils as u\n",
    "\n",
    "%matplotlib inline\n",
    "%load_ext autoreload\n",
    "%autoreload 2"
   ]
  },
  {
   "cell_type": "code",
   "execution_count": 70,
   "metadata": {},
   "outputs": [
    {
     "name": "stdout",
     "output_type": "stream",
     "text": [
      "Training ends on: 2017-07-02 00:00:00\n",
      "testing ends on: 2017-09-24 00:00:00\n"
     ]
    }
   ],
   "source": [
    "data = pd.read_csv('../data/gp_weekly_grid_parkslope.csv')\n",
    "data['DATETIME'] = pd.to_datetime(data['DATETIME'])\n",
    "\n",
    "data_dict = u.preprocess(data, start_date= '2017/01/01', training_end_date= 26, \\\n",
    "                                                       testing_end_date=12)\n"
   ]
  },
  {
   "cell_type": "code",
   "execution_count": 67,
   "metadata": {},
   "outputs": [],
   "source": [
    "def fit_AR(series, t_pred =12 ):\n",
    "    ar = AR(endog= series)\n",
    "    ar_fit = ar.fit(maxlag=1)\n",
    "    pred = ar.predict(params= ar_fit.params, end=t_pred)\n",
    "    return pred\n",
    "\n",
    "def get_MSE(pred,y_test):\n",
    "    MSE = ((np.square(pred - y_test)).sum()) / len(pred)\n",
    "    return MSE\n",
    "\n",
    "def AR_pipe(series, y_test):\n",
    "    t_pred = len(y_test)\n",
    "    pred = fit_AR(series.values, t_pred=t_pred)\n",
    "    return get_MSE(pred, y_test.values)\n",
    "\n",
    "def run_AR(data_dict):\n",
    "    ar_df = data_dict['train'].groupby(['DATETIME','GRID_SQUARE'])['COUNT'].sum().unstack()\n",
    "    ar_df_test = data_dict['test'].groupby(['DATETIME','GRID_SQUARE'])['COUNT'].sum().unstack()\n",
    "    grid_error = np.array([AR_pipe(ar_df[i],ar_df_test[i]) for i in ar_df])\n",
    "    return grid_error.sum() "
   ]
  },
  {
   "cell_type": "code",
   "execution_count": 68,
   "metadata": {},
   "outputs": [
    {
     "data": {
      "text/plain": [
       "26.627629611257355"
      ]
     },
     "execution_count": 68,
     "metadata": {},
     "output_type": "execute_result"
    }
   ],
   "source": [
    "run_AR(data_dict)"
   ]
  }
 ],
 "metadata": {
  "kernelspec": {
   "display_name": "Python [conda env:tensorflow]",
   "language": "python",
   "name": "conda-env-tensorflow-py"
  },
  "language_info": {
   "codemirror_mode": {
    "name": "ipython",
    "version": 3
   },
   "file_extension": ".py",
   "mimetype": "text/x-python",
   "name": "python",
   "nbconvert_exporter": "python",
   "pygments_lexer": "ipython3",
   "version": "3.6.2"
  }
 },
 "nbformat": 4,
 "nbformat_minor": 2
}
