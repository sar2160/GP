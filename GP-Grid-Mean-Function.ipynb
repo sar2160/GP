{
 "cells": [
  {
   "cell_type": "code",
   "execution_count": 1,
   "metadata": {
    "collapsed": true
   },
   "outputs": [],
   "source": [
    "import pandas as pd\n",
    "import numpy as np\n",
    "import gpflow\n",
    "import matplotlib.pyplot as plt\n",
    "import pickle\n",
    "%matplotlib inline\n",
    "\n"
   ]
  },
  {
   "cell_type": "code",
   "execution_count": 2,
   "metadata": {},
   "outputs": [
    {
     "data": {
      "text/html": [
       "<div>\n",
       "<style>\n",
       "    .dataframe thead tr:only-child th {\n",
       "        text-align: right;\n",
       "    }\n",
       "\n",
       "    .dataframe thead th {\n",
       "        text-align: left;\n",
       "    }\n",
       "\n",
       "    .dataframe tbody tr th {\n",
       "        vertical-align: top;\n",
       "    }\n",
       "</style>\n",
       "<table border=\"1\" class=\"dataframe\">\n",
       "  <thead>\n",
       "    <tr style=\"text-align: right;\">\n",
       "      <th></th>\n",
       "      <th>DATETIME</th>\n",
       "      <th>GRID_SQUARE</th>\n",
       "      <th>COUNT</th>\n",
       "      <th>x_point</th>\n",
       "      <th>y_point</th>\n",
       "      <th>DATE_IND</th>\n",
       "      <th>x_norm</th>\n",
       "      <th>y_norm</th>\n",
       "    </tr>\n",
       "  </thead>\n",
       "  <tbody>\n",
       "    <tr>\n",
       "      <th>0</th>\n",
       "      <td>2013-05-31</td>\n",
       "      <td>1.0</td>\n",
       "      <td>0.0</td>\n",
       "      <td>8.556851</td>\n",
       "      <td>8.800599</td>\n",
       "      <td>1.0</td>\n",
       "      <td>-1.463592</td>\n",
       "      <td>1.527256</td>\n",
       "    </tr>\n",
       "    <tr>\n",
       "      <th>59</th>\n",
       "      <td>2013-05-31</td>\n",
       "      <td>2.0</td>\n",
       "      <td>0.0</td>\n",
       "      <td>8.556851</td>\n",
       "      <td>8.675599</td>\n",
       "      <td>1.0</td>\n",
       "      <td>-1.463592</td>\n",
       "      <td>1.090897</td>\n",
       "    </tr>\n",
       "    <tr>\n",
       "      <th>118</th>\n",
       "      <td>2013-05-31</td>\n",
       "      <td>3.0</td>\n",
       "      <td>0.0</td>\n",
       "      <td>8.556851</td>\n",
       "      <td>8.550599</td>\n",
       "      <td>1.0</td>\n",
       "      <td>-1.463592</td>\n",
       "      <td>0.654538</td>\n",
       "    </tr>\n",
       "    <tr>\n",
       "      <th>177</th>\n",
       "      <td>2013-05-31</td>\n",
       "      <td>4.0</td>\n",
       "      <td>1.0</td>\n",
       "      <td>8.556851</td>\n",
       "      <td>8.425599</td>\n",
       "      <td>1.0</td>\n",
       "      <td>-1.463592</td>\n",
       "      <td>0.218179</td>\n",
       "    </tr>\n",
       "    <tr>\n",
       "      <th>236</th>\n",
       "      <td>2013-05-31</td>\n",
       "      <td>5.0</td>\n",
       "      <td>1.0</td>\n",
       "      <td>8.556851</td>\n",
       "      <td>8.300599</td>\n",
       "      <td>1.0</td>\n",
       "      <td>-1.463592</td>\n",
       "      <td>-0.218179</td>\n",
       "    </tr>\n",
       "  </tbody>\n",
       "</table>\n",
       "</div>"
      ],
      "text/plain": [
       "       DATETIME  GRID_SQUARE  COUNT   x_point   y_point  DATE_IND    x_norm  \\\n",
       "0    2013-05-31          1.0    0.0  8.556851  8.800599       1.0 -1.463592   \n",
       "59   2013-05-31          2.0    0.0  8.556851  8.675599       1.0 -1.463592   \n",
       "118  2013-05-31          3.0    0.0  8.556851  8.550599       1.0 -1.463592   \n",
       "177  2013-05-31          4.0    1.0  8.556851  8.425599       1.0 -1.463592   \n",
       "236  2013-05-31          5.0    1.0  8.556851  8.300599       1.0 -1.463592   \n",
       "\n",
       "       y_norm  \n",
       "0    1.527256  \n",
       "59   1.090897  \n",
       "118  0.654538  \n",
       "177  0.218179  \n",
       "236 -0.218179  "
      ]
     },
     "execution_count": 2,
     "metadata": {},
     "output_type": "execute_result"
    }
   ],
   "source": [
    "crashes = pd.read_csv('data/gp_grid_parkslope.csv')\n",
    "\n",
    "n = len(crashes)\n",
    "crashes.drop(crashes.columns[0], inplace = True, axis = 1)\n",
    "crashes.sort_values(['DATE_IND', 'GRID_SQUARE'], inplace = True)\n",
    "crashes['x_point'] = (crashes['x_point'] - 900000) / 10000  #+ np.random.normal(0,.001, size= n)\n",
    "crashes['y_point'] = (crashes['y_point'] - 100000) / 10000  #+ np.random.normal(0,.001, size = n)\n",
    "\n",
    "crashes['x_norm'] = (crashes['x_point'] - crashes['x_point'].mean()) / crashes['x_point'].std()\n",
    "crashes['y_norm'] = (crashes['y_point'] - crashes['y_point'].mean()) / crashes['y_point'].std()\n",
    "\n",
    "\n",
    "crashes['GRID_SQUARE'] = crashes['GRID_SQUARE'].astype(np.float32)\n",
    "crashes['DATE_IND'] = crashes['DATE_IND'].astype(np.float32)\n",
    "\n",
    "crashes.head()"
   ]
  },
  {
   "cell_type": "code",
   "execution_count": 3,
   "metadata": {
    "collapsed": true
   },
   "outputs": [],
   "source": [
    "## source https://www.health.ny.gov/statistics/prevention/injury_prevention/traffic/county_of_residence.htm\n",
    "\n",
    "per_100k = 696.6 / 12 # for months\n",
    "per_cap  = per_100k / 100000\n",
    "e_s = (39.270244500000004 / crashes.GRID_SQUARE.max()) # equally distribute pop among grid cells\n",
    "\n",
    "#e_s = pop[pop['NTA Name'] == 'Park Slope-Gowanus'].Population.values[0] * per_cap\n",
    "\n",
    "crashes['e_s'] = e_s\n",
    "\n",
    "crashes.set_index('DATETIME', inplace = True)\n",
    "#historical.groupby('BOROUGH')['NUMBER OF PEDESTRIANS INJURED'].sum()\n"
   ]
  },
  {
   "cell_type": "code",
   "execution_count": 4,
   "metadata": {
    "collapsed": true
   },
   "outputs": [],
   "source": [
    "dat = crashes.loc['2015-03-31':'2017-03-31']\n",
    "\n",
    "\n",
    "X = np.vstack([dat.DATE_IND.values.ravel(), dat.x_point.ravel(), dat.y_point.ravel()]).T\n",
    "y = dat.COUNT.values.reshape((len(dat),1))"
   ]
  },
  {
   "cell_type": "code",
   "execution_count": 5,
   "metadata": {},
   "outputs": [
    {
     "data": {
      "text/html": [
       "<div>\n",
       "<style>\n",
       "    .dataframe thead tr:only-child th {\n",
       "        text-align: right;\n",
       "    }\n",
       "\n",
       "    .dataframe thead th {\n",
       "        text-align: left;\n",
       "    }\n",
       "\n",
       "    .dataframe tbody tr th {\n",
       "        vertical-align: top;\n",
       "    }\n",
       "</style>\n",
       "<table border=\"1\" class=\"dataframe\">\n",
       "  <thead>\n",
       "    <tr style=\"text-align: right;\">\n",
       "      <th></th>\n",
       "      <th>class</th>\n",
       "      <th>prior</th>\n",
       "      <th>transform</th>\n",
       "      <th>trainable</th>\n",
       "      <th>shape</th>\n",
       "      <th>fixed_shape</th>\n",
       "      <th>value</th>\n",
       "    </tr>\n",
       "  </thead>\n",
       "  <tbody>\n",
       "    <tr>\n",
       "      <th>VGP/q_sqrt</th>\n",
       "      <td>Parameter</td>\n",
       "      <td>None</td>\n",
       "      <td>LoTri-&gt;vec</td>\n",
       "      <td>True</td>\n",
       "      <td>(1, 1200, 1200)</td>\n",
       "      <td>True</td>\n",
       "      <td>[[[1.0, 0.0, 0.0, 0.0, 0.0, 0.0, 0.0, 0.0, 0.0...</td>\n",
       "    </tr>\n",
       "    <tr>\n",
       "      <th>VGP/kern/periodic/lengthscales</th>\n",
       "      <td>Parameter</td>\n",
       "      <td>N([ 0.],[ 1.])</td>\n",
       "      <td>+ve</td>\n",
       "      <td>True</td>\n",
       "      <td>()</td>\n",
       "      <td>True</td>\n",
       "      <td>1.0</td>\n",
       "    </tr>\n",
       "    <tr>\n",
       "      <th>VGP/kern/periodic/variance</th>\n",
       "      <td>Parameter</td>\n",
       "      <td>N([ 0.],[ 1.])</td>\n",
       "      <td>+ve</td>\n",
       "      <td>True</td>\n",
       "      <td>()</td>\n",
       "      <td>True</td>\n",
       "      <td>1.0</td>\n",
       "    </tr>\n",
       "    <tr>\n",
       "      <th>VGP/kern/periodic/period</th>\n",
       "      <td>Parameter</td>\n",
       "      <td>None</td>\n",
       "      <td>+ve</td>\n",
       "      <td>True</td>\n",
       "      <td>()</td>\n",
       "      <td>True</td>\n",
       "      <td>12.0</td>\n",
       "    </tr>\n",
       "    <tr>\n",
       "      <th>VGP/kern/rbf_2/lengthscales</th>\n",
       "      <td>Parameter</td>\n",
       "      <td>N([ 0.],[ 1.])</td>\n",
       "      <td>+ve</td>\n",
       "      <td>True</td>\n",
       "      <td>()</td>\n",
       "      <td>True</td>\n",
       "      <td>1.0</td>\n",
       "    </tr>\n",
       "    <tr>\n",
       "      <th>VGP/kern/rbf_2/variance</th>\n",
       "      <td>Parameter</td>\n",
       "      <td>N([ 0.],[ 1.])</td>\n",
       "      <td>+ve</td>\n",
       "      <td>True</td>\n",
       "      <td>()</td>\n",
       "      <td>True</td>\n",
       "      <td>1.0</td>\n",
       "    </tr>\n",
       "    <tr>\n",
       "      <th>VGP/kern/rbf_1/lengthscales</th>\n",
       "      <td>Parameter</td>\n",
       "      <td>N([ 0.],[ 1.])</td>\n",
       "      <td>+ve</td>\n",
       "      <td>True</td>\n",
       "      <td>()</td>\n",
       "      <td>True</td>\n",
       "      <td>1.0</td>\n",
       "    </tr>\n",
       "    <tr>\n",
       "      <th>VGP/kern/rbf_1/variance</th>\n",
       "      <td>Parameter</td>\n",
       "      <td>N([ 0.],[ 1.])</td>\n",
       "      <td>+ve</td>\n",
       "      <td>True</td>\n",
       "      <td>()</td>\n",
       "      <td>True</td>\n",
       "      <td>1.0</td>\n",
       "    </tr>\n",
       "    <tr>\n",
       "      <th>VGP/kern/rbf_2/lengthscales</th>\n",
       "      <td>Parameter</td>\n",
       "      <td>N([ 0.],[ 1.])</td>\n",
       "      <td>+ve</td>\n",
       "      <td>True</td>\n",
       "      <td>()</td>\n",
       "      <td>True</td>\n",
       "      <td>1.0</td>\n",
       "    </tr>\n",
       "    <tr>\n",
       "      <th>VGP/kern/rbf_2/variance</th>\n",
       "      <td>Parameter</td>\n",
       "      <td>N([ 0.],[ 1.])</td>\n",
       "      <td>+ve</td>\n",
       "      <td>True</td>\n",
       "      <td>()</td>\n",
       "      <td>True</td>\n",
       "      <td>1.0</td>\n",
       "    </tr>\n",
       "    <tr>\n",
       "      <th>VGP/kern/rbf_1/lengthscales</th>\n",
       "      <td>Parameter</td>\n",
       "      <td>N([ 0.],[ 1.])</td>\n",
       "      <td>+ve</td>\n",
       "      <td>True</td>\n",
       "      <td>()</td>\n",
       "      <td>True</td>\n",
       "      <td>1.0</td>\n",
       "    </tr>\n",
       "    <tr>\n",
       "      <th>VGP/kern/rbf_1/variance</th>\n",
       "      <td>Parameter</td>\n",
       "      <td>N([ 0.],[ 1.])</td>\n",
       "      <td>+ve</td>\n",
       "      <td>True</td>\n",
       "      <td>()</td>\n",
       "      <td>True</td>\n",
       "      <td>1.0</td>\n",
       "    </tr>\n",
       "    <tr>\n",
       "      <th>VGP/q_mu</th>\n",
       "      <td>Parameter</td>\n",
       "      <td>None</td>\n",
       "      <td>(none)</td>\n",
       "      <td>True</td>\n",
       "      <td>(1200, 1)</td>\n",
       "      <td>True</td>\n",
       "      <td>[[0.0], [0.0], [0.0], [0.0], [0.0], [0.0], [0....</td>\n",
       "    </tr>\n",
       "  </tbody>\n",
       "</table>\n",
       "</div>"
      ],
      "text/plain": [
       "                                    class           prior   transform  \\\n",
       "VGP/q_sqrt                      Parameter            None  LoTri->vec   \n",
       "VGP/kern/periodic/lengthscales  Parameter  N([ 0.],[ 1.])         +ve   \n",
       "VGP/kern/periodic/variance      Parameter  N([ 0.],[ 1.])         +ve   \n",
       "VGP/kern/periodic/period        Parameter            None         +ve   \n",
       "VGP/kern/rbf_2/lengthscales     Parameter  N([ 0.],[ 1.])         +ve   \n",
       "VGP/kern/rbf_2/variance         Parameter  N([ 0.],[ 1.])         +ve   \n",
       "VGP/kern/rbf_1/lengthscales     Parameter  N([ 0.],[ 1.])         +ve   \n",
       "VGP/kern/rbf_1/variance         Parameter  N([ 0.],[ 1.])         +ve   \n",
       "VGP/kern/rbf_2/lengthscales     Parameter  N([ 0.],[ 1.])         +ve   \n",
       "VGP/kern/rbf_2/variance         Parameter  N([ 0.],[ 1.])         +ve   \n",
       "VGP/kern/rbf_1/lengthscales     Parameter  N([ 0.],[ 1.])         +ve   \n",
       "VGP/kern/rbf_1/variance         Parameter  N([ 0.],[ 1.])         +ve   \n",
       "VGP/q_mu                        Parameter            None      (none)   \n",
       "\n",
       "                                trainable            shape  fixed_shape  \\\n",
       "VGP/q_sqrt                           True  (1, 1200, 1200)         True   \n",
       "VGP/kern/periodic/lengthscales       True               ()         True   \n",
       "VGP/kern/periodic/variance           True               ()         True   \n",
       "VGP/kern/periodic/period             True               ()         True   \n",
       "VGP/kern/rbf_2/lengthscales          True               ()         True   \n",
       "VGP/kern/rbf_2/variance              True               ()         True   \n",
       "VGP/kern/rbf_1/lengthscales          True               ()         True   \n",
       "VGP/kern/rbf_1/variance              True               ()         True   \n",
       "VGP/kern/rbf_2/lengthscales          True               ()         True   \n",
       "VGP/kern/rbf_2/variance              True               ()         True   \n",
       "VGP/kern/rbf_1/lengthscales          True               ()         True   \n",
       "VGP/kern/rbf_1/variance              True               ()         True   \n",
       "VGP/q_mu                             True        (1200, 1)         True   \n",
       "\n",
       "                                                                            value  \n",
       "VGP/q_sqrt                      [[[1.0, 0.0, 0.0, 0.0, 0.0, 0.0, 0.0, 0.0, 0.0...  \n",
       "VGP/kern/periodic/lengthscales                                                1.0  \n",
       "VGP/kern/periodic/variance                                                    1.0  \n",
       "VGP/kern/periodic/period                                                     12.0  \n",
       "VGP/kern/rbf_2/lengthscales                                                   1.0  \n",
       "VGP/kern/rbf_2/variance                                                       1.0  \n",
       "VGP/kern/rbf_1/lengthscales                                                   1.0  \n",
       "VGP/kern/rbf_1/variance                                                       1.0  \n",
       "VGP/kern/rbf_2/lengthscales                                                   1.0  \n",
       "VGP/kern/rbf_2/variance                                                       1.0  \n",
       "VGP/kern/rbf_1/lengthscales                                                   1.0  \n",
       "VGP/kern/rbf_1/variance                                                       1.0  \n",
       "VGP/q_mu                        [[0.0], [0.0], [0.0], [0.0], [0.0], [0.0], [0....  "
      ]
     },
     "execution_count": 5,
     "metadata": {},
     "output_type": "execute_result"
    }
   ],
   "source": [
    "use_priors = True\n",
    "\n",
    "with gpflow.defer_build():\n",
    "\n",
    "    like = gpflow.likelihoods.Poisson(binsize = e_s)\n",
    "    kern_s_effect = gpflow.kernels.RBF(2, active_dims=[1,2], name='space_effect')\n",
    "    kern_t_effect = gpflow.kernels.RBF(1, active_dims=[0], name='time_effect')\n",
    "\n",
    "    ## Will have to write custom kernel to match Flaxman 2014\n",
    "    kern_p_effect = gpflow.kernels.Periodic(1, active_dims=[0], name = 'periodic_effect')\n",
    "    kern_st_effect = gpflow.kernels.Product([kern_s_effect ,kern_t_effect])\n",
    "\n",
    "    full_kern =  kern_t_effect + kern_s_effect + kern_p_effect + kern_st_effect\n",
    "    \n",
    "    mean = gpflow.mean_functions.Identity(input_dim = 3)\n",
    "    \n",
    "    m = gpflow.models.VGP(X, y, full_kern,  likelihood = like, mean_function = None)\n",
    "    \n",
    "    m.kern.periodic.period = 12\n",
    "    m.kern.periodic.period.trainable = True\n",
    "    \n",
    "    normal_prior = gpflow.priors.Gaussian(mu = 0 , var = 1)\n",
    "    if use_priors:\n",
    "        m.kern.rbf_1.variance.prior    = normal_prior\n",
    "        m.kern.periodic.variance.prior = normal_prior\n",
    "        m.kern.rbf_2.variance.prior    = normal_prior\n",
    "        \n",
    "        m.kern.rbf_1.lengthscales.prior = normal_prior\n",
    "        m.kern.rbf_2.lengthscales.prior = normal_prior\n",
    "        m.kern.periodic.lengthscales.prior = normal_prior\n",
    "\n",
    "\n",
    "m.as_pandas_table()"
   ]
  },
  {
   "cell_type": "code",
   "execution_count": 6,
   "metadata": {
    "collapsed": true
   },
   "outputs": [],
   "source": [
    "m.compile()\n",
    "opt = gpflow.train.ScipyOptimizer()"
   ]
  },
  {
   "cell_type": "code",
   "execution_count": 7,
   "metadata": {},
   "outputs": [
    {
     "data": {
      "text/plain": [
       "-10598.859522976076"
      ]
     },
     "execution_count": 7,
     "metadata": {},
     "output_type": "execute_result"
    }
   ],
   "source": [
    "m.compute_log_likelihood()"
   ]
  },
  {
   "cell_type": "code",
   "execution_count": 8,
   "metadata": {},
   "outputs": [
    {
     "name": "stdout",
     "output_type": "stream",
     "text": [
      "INFO:tensorflow:Optimization terminated with:\n",
      "  Message: b'CONVERGENCE: REL_REDUCTION_OF_F_<=_FACTR*EPSMCH'\n",
      "  Objective function value: 1710.826162\n",
      "  Number of iterations: 782\n",
      "  Number of functions evaluations: 861\n"
     ]
    }
   ],
   "source": [
    "opt.minimize(m, maxiter = 1000)"
   ]
  },
  {
   "cell_type": "code",
   "execution_count": 2,
   "metadata": {},
   "outputs": [
    {
     "ename": "NameError",
     "evalue": "name 'm' is not defined",
     "output_type": "error",
     "traceback": [
      "\u001b[0;31m---------------------------------------------------------------------------\u001b[0m",
      "\u001b[0;31mNameError\u001b[0m                                 Traceback (most recent call last)",
      "\u001b[0;32m<ipython-input-2-69b64623f86d>\u001b[0m in \u001b[0;36m<module>\u001b[0;34m()\u001b[0m\n\u001b[0;32m----> 1\u001b[0;31m \u001b[0mm\u001b[0m\u001b[0;34m\u001b[0m\u001b[0m\n\u001b[0m",
      "\u001b[0;31mNameError\u001b[0m: name 'm' is not defined"
     ]
    }
   ],
   "source": [
    "m."
   ]
  },
  {
   "cell_type": "code",
   "execution_count": 10,
   "metadata": {
    "collapsed": true
   },
   "outputs": [],
   "source": [
    "dat = crashes\n",
    "\n",
    "X = np.vstack([dat.DATE_IND.values.ravel(), dat.x_point, dat.y_point]).T\n",
    "y = dat.COUNT.values.reshape((len(dat),1))\n",
    "\n",
    "pred_mean, pred_variance = m.predict_y(X)\n"
   ]
  },
  {
   "cell_type": "code",
   "execution_count": 11,
   "metadata": {
    "collapsed": true
   },
   "outputs": [],
   "source": [
    "dat['pred'] = pred_mean\n"
   ]
  },
  {
   "cell_type": "code",
   "execution_count": 12,
   "metadata": {},
   "outputs": [
    {
     "data": {
      "text/plain": [
       "<matplotlib.axes._subplots.AxesSubplot at 0x7f7127167cf8>"
      ]
     },
     "execution_count": 12,
     "metadata": {},
     "output_type": "execute_result"
    },
    {
     "data": {
      "image/png": "[encoded data removed]",
      "text/plain": [
       "<matplotlib.figure.Figure at 0x7f7124a28128>"
      ]
     },
     "metadata": {},
     "output_type": "display_data"
    }
   ],
   "source": [
    "dat[dat.GRID_SQUARE == 33 ].reset_index()[['COUNT', 'pred']].plot()"
   ]
  },
  {
   "cell_type": "code",
   "execution_count": 13,
   "metadata": {},
   "outputs": [
    {
     "data": {
      "text/plain": [
       "4.0385541480187976"
      ]
     },
     "execution_count": 13,
     "metadata": {},
     "output_type": "execute_result"
    }
   ],
   "source": [
    "predicted = crashes.loc['2017-04-30':'2018-02-28'].copy() # last month is partial \n",
    "\n",
    "(np.square(predicted.pred - predicted.COUNT).sum()) * (1 / len(predicted))"
   ]
  },
  {
   "cell_type": "code",
   "execution_count": 14,
   "metadata": {},
   "outputs": [
    {
     "data": {
      "text/plain": [
       "DATETIME\n",
       "2017-04-30    6.497314\n",
       "2017-05-31    4.472356\n",
       "2017-06-30    2.443924\n",
       "2017-07-31    3.900575\n",
       "2017-08-31    2.018749\n",
       "2017-09-30    4.149163\n",
       "2017-10-31    4.306803\n",
       "2017-11-30    3.990471\n",
       "2017-12-31    4.386961\n",
       "2018-01-31    5.600149\n",
       "2018-02-28    2.657631\n",
       "dtype: float64"
      ]
     },
     "execution_count": 14,
     "metadata": {},
     "output_type": "execute_result"
    }
   ],
   "source": [
    "predicted['error'] = (predicted.pred - predicted.COUNT)\n",
    "predicted['sq_error'] = np.square(predicted['error'])\n",
    "\n",
    "forecast = predicted.groupby('DATETIME')\n",
    "forecasting_error = forecast['sq_error'].sum() * (1 / forecast['GRID_SQUARE'].count())\n",
    "\n",
    "forecasting_error\n",
    "\n"
   ]
  },
  {
   "cell_type": "code",
   "execution_count": 15,
   "metadata": {},
   "outputs": [
    {
     "data": {
      "text/plain": [
       "DATETIME\n",
       "2017-04-30    10.346671\n",
       "2017-05-31     0.238679\n",
       "2017-06-30     1.209817\n",
       "2017-07-31     8.531003\n",
       "2017-08-31     6.927465\n",
       "2017-09-30    15.239493\n",
       "2017-10-31    16.234392\n",
       "2017-11-30     0.086677\n",
       "2017-12-31     2.007860\n",
       "2018-01-31     7.584583\n",
       "2018-02-28     4.192711\n",
       "Name: sq_error, dtype: float64"
      ]
     },
     "execution_count": 15,
     "metadata": {},
     "output_type": "execute_result"
    }
   ],
   "source": [
    "aggregate_forecast = predicted.groupby('DATETIME')[['pred','COUNT']].sum()\n",
    "aggregate_forecast['sq_error'] = np.square(aggregate_forecast.pred - aggregate_forecast.COUNT)\n",
    "\n",
    "np.sqrt(aggregate_forecast.sq_error * (1 / len(aggregate_forecast)))"
   ]
  },
  {
   "cell_type": "code",
   "execution_count": 16,
   "metadata": {},
   "outputs": [
    {
     "data": {
      "text/plain": [
       "<matplotlib.axes._subplots.AxesSubplot at 0x7f71270c5160>"
      ]
     },
     "execution_count": 16,
     "metadata": {},
     "output_type": "execute_result"
    },
    {
     "data": {
      "image/png": "[encoded data removed]",
      "text/plain": [
       "<matplotlib.figure.Figure at 0x7f7196465400>"
      ]
     },
     "metadata": {},
     "output_type": "display_data"
    }
   ],
   "source": [
    "predicted[predicted.GRID_SQUARE == 33 ].reset_index()[['COUNT', 'pred']].plot()"
   ]
  },
  {
   "cell_type": "code",
   "execution_count": 132,
   "metadata": {
    "collapsed": true
   },
   "outputs": [],
   "source": [
    "#\n",
    "params = m.read_trainables()\n",
    "#pickle.dump( params, open( \"best_model_so_far.p\", \"wb\" ) )\n"
   ]
  }
 ],
 "metadata": {
  "kernelspec": {
   "display_name": "Python 3",
   "language": "python",
   "name": "python3"
  },
  "language_info": {
   "codemirror_mode": {
    "name": "ipython",
    "version": 3
   },
   "file_extension": ".py",
   "mimetype": "text/x-python",
   "name": "python",
   "nbconvert_exporter": "python",
   "pygments_lexer": "ipython3",
   "version": "3.5.4"
  }
 },
 "nbformat": 4,
 "nbformat_minor": 2
}
