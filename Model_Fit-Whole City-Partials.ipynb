{
 "cells": [
  {
   "cell_type": "code",
   "execution_count": 1,
   "metadata": {},
   "outputs": [
    {
     "name": "stderr",
     "output_type": "stream",
     "text": [
      "/home/ecbm4040/miniconda2/envs/dlenv/lib/python3.5/site-packages/statsmodels/compat/pandas.py:56: FutureWarning: The pandas.core.datetools module is deprecated and will be removed in a future version. Please use the pandas.tseries module instead.\n",
      "  from pandas.core import datetools\n"
     ]
    }
   ],
   "source": [
    "import pandas as pd\n",
    "import numpy as np\n",
    "import gpflow\n",
    "import matplotlib.pyplot as plt\n",
    "import pickle\n",
    "import tensorflow as tf\n",
    "\n",
    "import utils as u\n",
    "from models import LongTermPartial_Model\n",
    "%matplotlib inline\n",
    "\n",
    "\n",
    "%load_ext autoreload\n",
    "%autoreload 2\n",
    "\n"
   ]
  },
  {
   "cell_type": "code",
   "execution_count": 2,
   "metadata": {
    "collapsed": true
   },
   "outputs": [],
   "source": [
    "data = pd.read_csv('../data/gp_weekly_nta_data.csv')\n",
    "data['DATETIME'] = pd.to_datetime(data['DATETIME'])\n",
    "\n",
    "data.DATE_IND = data.DATE_IND.astype(float)  # try to bring down variance scale\n",
    "\n",
    "data.rename(columns={'INJURED':'COUNT'},inplace=True)\n",
    "\n",
    "data.COUNT = data.COUNT.astype(float)\n",
    "\n",
    "#data = data[data.BoroName == 'Manhattan']\n",
    "\n"
   ]
  },
  {
   "cell_type": "code",
   "execution_count": 3,
   "metadata": {
    "collapsed": true
   },
   "outputs": [],
   "source": [
    "e_s = ((769 / 100000) * 8500000) / 52"
   ]
  },
  {
   "cell_type": "code",
   "execution_count": 4,
   "metadata": {},
   "outputs": [
    {
     "data": {
      "text/html": [
       "<div>\n",
       "<style>\n",
       "    .dataframe thead tr:only-child th {\n",
       "        text-align: right;\n",
       "    }\n",
       "\n",
       "    .dataframe thead th {\n",
       "        text-align: left;\n",
       "    }\n",
       "\n",
       "    .dataframe tbody tr th {\n",
       "        vertical-align: top;\n",
       "    }\n",
       "</style>\n",
       "<table border=\"1\" class=\"dataframe\">\n",
       "  <thead>\n",
       "    <tr style=\"text-align: right;\">\n",
       "      <th></th>\n",
       "      <th>DATETIME</th>\n",
       "      <th>COUNT</th>\n",
       "      <th>DATE_IND</th>\n",
       "    </tr>\n",
       "  </thead>\n",
       "  <tbody>\n",
       "    <tr>\n",
       "      <th>0</th>\n",
       "      <td>2012-07-15</td>\n",
       "      <td>827.0</td>\n",
       "      <td>0.03</td>\n",
       "    </tr>\n",
       "    <tr>\n",
       "      <th>1</th>\n",
       "      <td>2012-07-22</td>\n",
       "      <td>838.0</td>\n",
       "      <td>0.04</td>\n",
       "    </tr>\n",
       "    <tr>\n",
       "      <th>2</th>\n",
       "      <td>2012-07-29</td>\n",
       "      <td>802.0</td>\n",
       "      <td>0.05</td>\n",
       "    </tr>\n",
       "    <tr>\n",
       "      <th>3</th>\n",
       "      <td>2012-08-05</td>\n",
       "      <td>792.0</td>\n",
       "      <td>0.06</td>\n",
       "    </tr>\n",
       "    <tr>\n",
       "      <th>4</th>\n",
       "      <td>2012-08-12</td>\n",
       "      <td>836.0</td>\n",
       "      <td>0.07</td>\n",
       "    </tr>\n",
       "  </tbody>\n",
       "</table>\n",
       "</div>"
      ],
      "text/plain": [
       "    DATETIME  COUNT  DATE_IND\n",
       "0 2012-07-15  827.0      0.03\n",
       "1 2012-07-22  838.0      0.04\n",
       "2 2012-07-29  802.0      0.05\n",
       "3 2012-08-05  792.0      0.06\n",
       "4 2012-08-12  836.0      0.07"
      ]
     },
     "execution_count": 4,
     "metadata": {},
     "output_type": "execute_result"
    }
   ],
   "source": [
    "city_data = data.groupby('DATETIME')[['COUNT']].sum()\n",
    "city_data['DATE_IND'] = range(0,city_data.shape[0]) \n",
    "city_data['DATE_IND'] += 1\n",
    "city_data.DATE_IND = city_data.DATE_IND.astype(float) / 100\n",
    "#city_data.DATE_IND = (city_data.DATE_IND - city_data.DATE_IND.mean()) / city_data.DATE_IND.std()\n",
    "city_data = city_data.iloc[2:] # drop first week\n",
    "city_data.reset_index(inplace = True)\n",
    "city_data.head()"
   ]
  },
  {
   "cell_type": "code",
   "execution_count": 5,
   "metadata": {
    "collapsed": true
   },
   "outputs": [],
   "source": [
    "search_periods = [[156,52]]\n",
    "                 "
   ]
  },
  {
   "cell_type": "code",
   "execution_count": 6,
   "metadata": {},
   "outputs": [
    {
     "name": "stdout",
     "output_type": "stream",
     "text": [
      "Beginning run [156, 52] : \n",
      "Training ends on: 2015-07-12 00:00:00\n",
      "testing ends on: 2016-07-10 00:00:00\n",
      "Initial neg. log-likelihood: -713329.498877\n",
      "INFO:tensorflow:Optimization terminated with:\n",
      "  Message: b'STOP: TOTAL NO. of ITERATIONS EXCEEDS LIMIT'\n",
      "  Objective function value: 20396.974427\n",
      "  Number of iterations: 3\n",
      "  Number of functions evaluations: 5\n"
     ]
    }
   ],
   "source": [
    "for i, s in enumerate(search_periods):\n",
    "    \n",
    "    print('Beginning run {} : '.format(str(s)))\n",
    "    #print('{} periods for training \\n').format(s[0])\n",
    "    #print('{} periods for testing \\n').format(s[1])\n",
    "\n",
    "    data_dict = u.preprocess(city_data, start_date= '2012/07/15', training_end_date= s[0], \\\n",
    "                                                           testing_end_date=s[1], time_only = True)\n",
    "\n",
    "\n",
    "    m = LongTermPartial_Model(data_dict['X_train'],data_dict['y_train'],use_priors=True, e_s= e_s , period = 1)\n",
    "    m.compile()\n",
    "    opt = gpflow.train.ScipyOptimizer()\n",
    "    print('Initial neg. log-likelihood: {}'.format(str(m.compute_log_likelihood())))\n",
    "    opt.minimize(m, maxiter = 2)\n",
    "    \n",
    "    #u.pred_GP(m,data_dict)\n",
    "    #test = data_dict['test']\n",
    "\n",
    "    #gp = test.groupby('DATETIME')['gp_sq_error'].mean() #/ test.GRID_SQUARE.max()\n",
    "    #ar = u.run_AR(data_dict)\n",
    "    #summary = pd.concat([gp,ar],axis=1)\n",
    "    #summary.plot()\n",
    "\n",
    "    #print(summary.mean())\n"
   ]
  },
  {
   "cell_type": "code",
   "execution_count": 7,
   "metadata": {},
   "outputs": [
    {
     "name": "stdout",
     "output_type": "stream",
     "text": [
      "added gp pred and error to test\n"
     ]
    },
    {
     "data": {
      "text/plain": [
       "<matplotlib.axes._subplots.AxesSubplot at 0x7fb7d48c1e10>"
      ]
     },
     "execution_count": 7,
     "metadata": {},
     "output_type": "execute_result"
    },
    {
     "data": {
      "image/png": "[encoded data removed]",
      "text/plain": [
       "<matplotlib.figure.Figure at 0x7fb7d48c15c0>"
      ]
     },
     "metadata": {},
     "output_type": "display_data"
    }
   ],
   "source": [
    "ar = u.run_AR(data_dict, group_by=None)\n",
    "\n",
    "ar_se = pd.Series(np.square(ar))\n",
    "#np.square(ar).mean()\n",
    "\n",
    "u.pred_GP(m,data_dict)\n",
    "\n",
    "se = data_dict['test'][['gp_sq_error']].copy()\n",
    "se['ar_sq_error'] = ar_se.values\n",
    "se.plot()"
   ]
  },
  {
   "cell_type": "code",
   "execution_count": 8,
   "metadata": {},
   "outputs": [
    {
     "data": {
      "text/plain": [
       "<matplotlib.axes._subplots.AxesSubplot at 0x7fb7d47d2fd0>"
      ]
     },
     "execution_count": 8,
     "metadata": {},
     "output_type": "execute_result"
    },
    {
     "data": {
      "image/png": "[encoded data removed]",
      "text/plain": [
       "<matplotlib.figure.Figure at 0x7fb7d47db3c8>"
      ]
     },
     "metadata": {},
     "output_type": "display_data"
    }
   ],
   "source": [
    "pred_train = m.predict_y(data_dict['X_train'])\n",
    "pred_test = m.predict_y(data_dict['X_test'])\n",
    "\n",
    "train = data_dict['train']\n",
    "train['gp_pred'] = pred_train[0]\n",
    "test = data_dict['test']\n",
    "test['gp_pred'] = pred_test[0]\n",
    "test['gp_var'] = pred_test[1]\n",
    "\n",
    "\n",
    "train.append(test)[['COUNT','gp_pred']].plot()\n",
    "\n",
    "\n",
    "## This needs:\n",
    "# train/test normalization has to be split\n",
    "# prediction has to be done right when looking ahead (sequentially)\n"
   ]
  },
  {
   "cell_type": "code",
   "execution_count": 9,
   "metadata": {},
   "outputs": [
    {
     "data": {
      "text/html": [
       "<div>\n",
       "<style>\n",
       "    .dataframe thead tr:only-child th {\n",
       "        text-align: right;\n",
       "    }\n",
       "\n",
       "    .dataframe thead th {\n",
       "        text-align: left;\n",
       "    }\n",
       "\n",
       "    .dataframe tbody tr th {\n",
       "        vertical-align: top;\n",
       "    }\n",
       "</style>\n",
       "<table border=\"1\" class=\"dataframe\">\n",
       "  <thead>\n",
       "    <tr style=\"text-align: right;\">\n",
       "      <th></th>\n",
       "      <th>class</th>\n",
       "      <th>prior</th>\n",
       "      <th>transform</th>\n",
       "      <th>trainable</th>\n",
       "      <th>shape</th>\n",
       "      <th>fixed_shape</th>\n",
       "      <th>value</th>\n",
       "    </tr>\n",
       "  </thead>\n",
       "  <tbody>\n",
       "    <tr>\n",
       "      <th>PartialVGP/q_sqrt</th>\n",
       "      <td>Parameter</td>\n",
       "      <td>None</td>\n",
       "      <td>LoTri-&gt;vec</td>\n",
       "      <td>True</td>\n",
       "      <td>(1, 157, 157)</td>\n",
       "      <td>True</td>\n",
       "      <td>[[[0.277333964177, 0.0, 0.0, 0.0, 0.0, 0.0, 0....</td>\n",
       "    </tr>\n",
       "    <tr>\n",
       "      <th>PartialVGP/q_mu</th>\n",
       "      <td>Parameter</td>\n",
       "      <td>None</td>\n",
       "      <td>(none)</td>\n",
       "      <td>True</td>\n",
       "      <td>(157, 1)</td>\n",
       "      <td>True</td>\n",
       "      <td>[[-0.312455650224], [-0.169824465289], [-0.086...</td>\n",
       "    </tr>\n",
       "    <tr>\n",
       "      <th>PartialVGP/kern/linear/variance</th>\n",
       "      <td>Parameter</td>\n",
       "      <td>student-T([ 0.],[ 1.][ 4.])</td>\n",
       "      <td>+ve</td>\n",
       "      <td>True</td>\n",
       "      <td>()</td>\n",
       "      <td>True</td>\n",
       "      <td>0.8170319016912574</td>\n",
       "    </tr>\n",
       "    <tr>\n",
       "      <th>PartialVGP/kern/periodic/period</th>\n",
       "      <td>Parameter</td>\n",
       "      <td>None</td>\n",
       "      <td>+ve</td>\n",
       "      <td>True</td>\n",
       "      <td>()</td>\n",
       "      <td>True</td>\n",
       "      <td>1.0189422688924648</td>\n",
       "    </tr>\n",
       "    <tr>\n",
       "      <th>PartialVGP/kern/periodic/lengthscales</th>\n",
       "      <td>Parameter</td>\n",
       "      <td>student-T([ 0.],[ 1.][ 4.])</td>\n",
       "      <td>+ve</td>\n",
       "      <td>True</td>\n",
       "      <td>()</td>\n",
       "      <td>True</td>\n",
       "      <td>1.1251956414895086</td>\n",
       "    </tr>\n",
       "    <tr>\n",
       "      <th>PartialVGP/kern/periodic/variance</th>\n",
       "      <td>Parameter</td>\n",
       "      <td>student-T([ 0.],[ 1.][ 4.])</td>\n",
       "      <td>+ve</td>\n",
       "      <td>True</td>\n",
       "      <td>()</td>\n",
       "      <td>True</td>\n",
       "      <td>0.8265844333947635</td>\n",
       "    </tr>\n",
       "    <tr>\n",
       "      <th>PartialVGP/kern/rbf/lengthscales</th>\n",
       "      <td>Parameter</td>\n",
       "      <td>student-T([ 0.],[ 1.][ 4.])</td>\n",
       "      <td>+ve</td>\n",
       "      <td>True</td>\n",
       "      <td>()</td>\n",
       "      <td>True</td>\n",
       "      <td>1.0956011595994601</td>\n",
       "    </tr>\n",
       "    <tr>\n",
       "      <th>PartialVGP/kern/rbf/variance</th>\n",
       "      <td>Parameter</td>\n",
       "      <td>student-T([ 0.],[ 1.][ 4.])</td>\n",
       "      <td>+ve</td>\n",
       "      <td>True</td>\n",
       "      <td>()</td>\n",
       "      <td>True</td>\n",
       "      <td>0.8405178848069909</td>\n",
       "    </tr>\n",
       "  </tbody>\n",
       "</table>\n",
       "</div>"
      ],
      "text/plain": [
       "                                           class                        prior  \\\n",
       "PartialVGP/q_sqrt                      Parameter                         None   \n",
       "PartialVGP/q_mu                        Parameter                         None   \n",
       "PartialVGP/kern/linear/variance        Parameter  student-T([ 0.],[ 1.][ 4.])   \n",
       "PartialVGP/kern/periodic/period        Parameter                         None   \n",
       "PartialVGP/kern/periodic/lengthscales  Parameter  student-T([ 0.],[ 1.][ 4.])   \n",
       "PartialVGP/kern/periodic/variance      Parameter  student-T([ 0.],[ 1.][ 4.])   \n",
       "PartialVGP/kern/rbf/lengthscales       Parameter  student-T([ 0.],[ 1.][ 4.])   \n",
       "PartialVGP/kern/rbf/variance           Parameter  student-T([ 0.],[ 1.][ 4.])   \n",
       "\n",
       "                                        transform  trainable          shape  \\\n",
       "PartialVGP/q_sqrt                      LoTri->vec       True  (1, 157, 157)   \n",
       "PartialVGP/q_mu                            (none)       True       (157, 1)   \n",
       "PartialVGP/kern/linear/variance               +ve       True             ()   \n",
       "PartialVGP/kern/periodic/period               +ve       True             ()   \n",
       "PartialVGP/kern/periodic/lengthscales         +ve       True             ()   \n",
       "PartialVGP/kern/periodic/variance             +ve       True             ()   \n",
       "PartialVGP/kern/rbf/lengthscales              +ve       True             ()   \n",
       "PartialVGP/kern/rbf/variance                  +ve       True             ()   \n",
       "\n",
       "                                       fixed_shape  \\\n",
       "PartialVGP/q_sqrt                             True   \n",
       "PartialVGP/q_mu                               True   \n",
       "PartialVGP/kern/linear/variance               True   \n",
       "PartialVGP/kern/periodic/period               True   \n",
       "PartialVGP/kern/periodic/lengthscales         True   \n",
       "PartialVGP/kern/periodic/variance             True   \n",
       "PartialVGP/kern/rbf/lengthscales              True   \n",
       "PartialVGP/kern/rbf/variance                  True   \n",
       "\n",
       "                                                                                   value  \n",
       "PartialVGP/q_sqrt                      [[[0.277333964177, 0.0, 0.0, 0.0, 0.0, 0.0, 0....  \n",
       "PartialVGP/q_mu                        [[-0.312455650224], [-0.169824465289], [-0.086...  \n",
       "PartialVGP/kern/linear/variance                                       0.8170319016912574  \n",
       "PartialVGP/kern/periodic/period                                       1.0189422688924648  \n",
       "PartialVGP/kern/periodic/lengthscales                                 1.1251956414895086  \n",
       "PartialVGP/kern/periodic/variance                                     0.8265844333947635  \n",
       "PartialVGP/kern/rbf/lengthscales                                      1.0956011595994601  \n",
       "PartialVGP/kern/rbf/variance                                          0.8405178848069909  "
      ]
     },
     "execution_count": 9,
     "metadata": {},
     "output_type": "execute_result"
    }
   ],
   "source": [
    "m.as_pandas_table()"
   ]
  },
  {
   "cell_type": "code",
   "execution_count": 10,
   "metadata": {},
   "outputs": [
    {
     "data": {
      "text/plain": [
       "<gpflow.kernels.Periodic at 0x7fb812387d30>"
      ]
     },
     "execution_count": 10,
     "metadata": {},
     "output_type": "execute_result"
    }
   ],
   "source": [
    "m.kern.periodic"
   ]
  },
  {
   "cell_type": "code",
   "execution_count": 27,
   "metadata": {},
   "outputs": [],
   "source": [
    "mu_lin, _ = m.predict_f_linear(data_dict['X_train'])\n",
    "mu_period, _ = m.predict_f_periodic(data_dict['X_train'])\n",
    "mu_rbf, _ = m.predict_f_rbf(data_dict['X_train'])\n",
    "\n",
    "mu_comb = mu_lin + mu_period + mu_rbf"
   ]
  },
  {
   "cell_type": "code",
   "execution_count": 30,
   "metadata": {},
   "outputs": [
    {
     "data": {
      "text/plain": [
       "[<matplotlib.lines.Line2D at 0x7fb7b39a0eb8>]"
      ]
     },
     "execution_count": 30,
     "metadata": {},
     "output_type": "execute_result"
    },
    {
     "data": {
      "image/png": "[encoded data removed]",
      "text/plain": [
       "<matplotlib.figure.Figure at 0x7fb7b3ad74e0>"
      ]
     },
     "metadata": {},
     "output_type": "display_data"
    }
   ],
   "source": [
    "X = data_dict['X_train']\n",
    "f , _ = m.predict_f(X)\n",
    "plt.plot(X, mu_lin ,'lime')\n",
    "plt.plot(X, mu_rbf, 'red')\n",
    "plt.plot(X, mu_period, 'green')\n",
    "plt.plot(X, f, 'black')\n",
    "plt.plot(X, mu_comb, 'grey')\n"
   ]
  },
  {
   "cell_type": "code",
   "execution_count": null,
   "metadata": {},
   "outputs": [],
   "source": [
    "f = m.predict_f(data_dict['X_test'])\n",
    "plt.plot(f[0])"
   ]
  },
  {
   "cell_type": "code",
   "execution_count": null,
   "metadata": {},
   "outputs": [],
   "source": [
    "\n",
    "output = pd.DataFrame(index=test.index, columns=['pred','seed'])\n",
    "\n",
    "output.ix[0,'seed'] = m.predict_f([data_dict['X_train'][-1]])[0]\n",
    "\n",
    "for i in range(output.shape[0]):\n",
    "    output.ix[i+1,'pred'] = m.predict_y([output.ix[0,'seed'][0]])\n",
    "\n",
    "\n",
    "                                       \n",
    "    if i > 0:\n",
    "        m.predict_f([output.ix[i,'seed']])[0]\n",
    "\n",
    "output\n"
   ]
  },
  {
   "cell_type": "code",
   "execution_count": null,
   "metadata": {},
   "outputs": [],
   "source": [
    "## Missing data 2016\n",
    "\n",
    "data.groupby('DATETIME')['COUNT'].sum().plot()"
   ]
  },
  {
   "cell_type": "code",
   "execution_count": null,
   "metadata": {
    "collapsed": true
   },
   "outputs": [],
   "source": [
    "test.groupby('GRID_SQUARE')['COUNT'].sum().sort_values(ascending = False).head()"
   ]
  },
  {
   "cell_type": "code",
   "execution_count": null,
   "metadata": {
    "collapsed": true
   },
   "outputs": [],
   "source": [
    "test[test.GRID_SQUARE == 108][['gp_pred','COUNT']].plot()"
   ]
  }
 ],
 "metadata": {
  "kernelspec": {
   "display_name": "Python 3",
   "language": "python",
   "name": "python3"
  },
  "language_info": {
   "codemirror_mode": {
    "name": "ipython",
    "version": 3
   },
   "file_extension": ".py",
   "mimetype": "text/x-python",
   "name": "python",
   "nbconvert_exporter": "python",
   "pygments_lexer": "ipython3",
   "version": "3.5.4"
  }
 },
 "nbformat": 4,
 "nbformat_minor": 2
}
