{
 "cells": [
  {
   "cell_type": "code",
   "execution_count": 41,
   "metadata": {},
   "outputs": [
    {
     "name": "stdout",
     "output_type": "stream",
     "text": [
      "The autoreload extension is already loaded. To reload it, use:\n",
      "  %reload_ext autoreload\n"
     ]
    }
   ],
   "source": [
    "import pandas as pd\n",
    "import numpy as np\n",
    "import gpflow\n",
    "import matplotlib.pyplot as plt\n",
    "import pickle\n",
    "\n",
    "import utils as u\n",
    "from models import Poisson_Model\n",
    "%matplotlib inline\n",
    "\n",
    "\n",
    "%load_ext autoreload\n",
    "%autoreload 2"
   ]
  },
  {
   "cell_type": "code",
   "execution_count": 72,
   "metadata": {},
   "outputs": [
    {
     "name": "stdout",
     "output_type": "stream",
     "text": [
      "0.111666666667\n"
     ]
    }
   ],
   "source": [
    "data = pd.read_csv('../data/gp_weekly_grid_parkslope.csv')\n",
    "data['DATETIME'] = pd.to_datetime(data['DATETIME'])\n",
    "e_s = (5.36 / data.GRID_SQUARE.max()) # 2016 mean weekly crashes in park slope\n",
    "print(e_s)"
   ]
  },
  {
   "cell_type": "code",
   "execution_count": 73,
   "metadata": {
    "collapsed": true
   },
   "outputs": [],
   "source": [
    "search_periods = [\n",
    "                 [24,12],\n",
    "                 [24,14],\n",
    "                 [24,16],\n",
    "                 [24,18]]\n",
    "\n"
   ]
  },
  {
   "cell_type": "code",
   "execution_count": null,
   "metadata": {},
   "outputs": [],
   "source": [
    "import sys\n",
    "with open('log_optimal_forecasting_period', 'w') as f:\n",
    "    sys.stdout = f\n",
    "    \n",
    "for i, s in enumerate(search_periods):\n",
    "    \n",
    "    \n",
    "    \n",
    "    print('Beginning run {} : '.format(str(i)))\n",
    "    #print('{} periods for training \\n').format(s[0])\n",
    "    #print('{} periods for testing \\n').format(s[1])\n",
    "\n",
    "    data_dict = u.preprocess(data, start_date= '2017/01/01', training_end_date= s[0], \\\n",
    "                                                           testing_end_date=s[1])\n",
    "\n",
    "    m = Poisson_Model(data_dict['X_train'],data_dict['y_train'],use_priors=True, e_s= e_s, period = 52)\n",
    "    m.compile()\n",
    "    opt = gpflow.train.ScipyOptimizer()\n",
    "    print(m.compute_log_likelihood())\n",
    "    opt.minimize(m, maxiter = 500)\n",
    "    \n",
    "    u.pred_GP(m,data_dict)\n",
    "    \n",
    "    test = data_dict['test']\n",
    "\n",
    "    gp = test.groupby('DATETIME')['gp_sq_error'].mean() #/ test.GRID_SQUARE.max()\n",
    "    ar = u.run_AR(data_dict)\n",
    "    summary = pd.concat([gp,ar],axis=1)\n",
    "    summary.plot()\n",
    "\n",
    "    print(summary.mean())\n"
   ]
  },
  {
   "cell_type": "code",
   "execution_count": null,
   "metadata": {
    "collapsed": true
   },
   "outputs": [],
   "source": []
  },
  {
   "cell_type": "code",
   "execution_count": 16,
   "metadata": {},
   "outputs": [
    {
     "data": {
      "text/plain": [
       "<matplotlib.axes._subplots.AxesSubplot at 0x7fe6540d07f0>"
      ]
     },
     "execution_count": 16,
     "metadata": {},
     "output_type": "execute_result"
    },
    {
     "data": {
      "image/png": "[encoded data removed]",
      "text/plain": [
       "<matplotlib.figure.Figure at 0x7fe6558694e0>"
      ]
     },
     "metadata": {},
     "output_type": "display_data"
    }
   ],
   "source": [
    "test.groupby('DATETIME')[['gp_pred','COUNT']].sum().plot()"
   ]
  },
  {
   "cell_type": "code",
   "execution_count": 19,
   "metadata": {},
   "outputs": [
    {
     "data": {
      "text/plain": [
       "GRID_SQUARE\n",
       "33.0    44.0\n",
       "44.0    20.0\n",
       "21.0    19.0\n",
       "35.0    18.0\n",
       "27.0    16.0\n",
       "Name: COUNT, dtype: float64"
      ]
     },
     "execution_count": 19,
     "metadata": {},
     "output_type": "execute_result"
    }
   ],
   "source": [
    "test.groupby('GRID_SQUARE')['COUNT'].sum().sort_values(ascending = False).head()"
   ]
  },
  {
   "cell_type": "code",
   "execution_count": 25,
   "metadata": {},
   "outputs": [
    {
     "data": {
      "text/html": [
       "<div>\n",
       "<style>\n",
       "    .dataframe thead tr:only-child th {\n",
       "        text-align: right;\n",
       "    }\n",
       "\n",
       "    .dataframe thead th {\n",
       "        text-align: left;\n",
       "    }\n",
       "\n",
       "    .dataframe tbody tr th {\n",
       "        vertical-align: top;\n",
       "    }\n",
       "</style>\n",
       "<table border=\"1\" class=\"dataframe\">\n",
       "  <thead>\n",
       "    <tr style=\"text-align: right;\">\n",
       "      <th></th>\n",
       "      <th>gp_pred</th>\n",
       "      <th>COUNT</th>\n",
       "    </tr>\n",
       "    <tr>\n",
       "      <th>DATETIME</th>\n",
       "      <th></th>\n",
       "      <th></th>\n",
       "    </tr>\n",
       "  </thead>\n",
       "  <tbody>\n",
       "    <tr>\n",
       "      <th>2017-07-02</th>\n",
       "      <td>3.518106</td>\n",
       "      <td>3.0</td>\n",
       "    </tr>\n",
       "    <tr>\n",
       "      <th>2017-07-09</th>\n",
       "      <td>3.662330</td>\n",
       "      <td>3.0</td>\n",
       "    </tr>\n",
       "    <tr>\n",
       "      <th>2017-07-16</th>\n",
       "      <td>3.729008</td>\n",
       "      <td>3.0</td>\n",
       "    </tr>\n",
       "    <tr>\n",
       "      <th>2017-07-23</th>\n",
       "      <td>3.684784</td>\n",
       "      <td>5.0</td>\n",
       "    </tr>\n",
       "    <tr>\n",
       "      <th>2017-07-30</th>\n",
       "      <td>3.595103</td>\n",
       "      <td>8.0</td>\n",
       "    </tr>\n",
       "    <tr>\n",
       "      <th>2017-08-06</th>\n",
       "      <td>3.496820</td>\n",
       "      <td>4.0</td>\n",
       "    </tr>\n",
       "    <tr>\n",
       "      <th>2017-08-13</th>\n",
       "      <td>3.396871</td>\n",
       "      <td>3.0</td>\n",
       "    </tr>\n",
       "    <tr>\n",
       "      <th>2017-08-20</th>\n",
       "      <td>3.296573</td>\n",
       "      <td>3.0</td>\n",
       "    </tr>\n",
       "    <tr>\n",
       "      <th>2017-08-27</th>\n",
       "      <td>3.196773</td>\n",
       "      <td>2.0</td>\n",
       "    </tr>\n",
       "    <tr>\n",
       "      <th>2017-09-03</th>\n",
       "      <td>3.098249</td>\n",
       "      <td>2.0</td>\n",
       "    </tr>\n",
       "    <tr>\n",
       "      <th>2017-09-10</th>\n",
       "      <td>3.001771</td>\n",
       "      <td>2.0</td>\n",
       "    </tr>\n",
       "    <tr>\n",
       "      <th>2017-09-17</th>\n",
       "      <td>2.908131</td>\n",
       "      <td>5.0</td>\n",
       "    </tr>\n",
       "    <tr>\n",
       "      <th>2017-09-24</th>\n",
       "      <td>2.818170</td>\n",
       "      <td>1.0</td>\n",
       "    </tr>\n",
       "  </tbody>\n",
       "</table>\n",
       "</div>"
      ],
      "text/plain": [
       "             gp_pred  COUNT\n",
       "DATETIME                   \n",
       "2017-07-02  3.518106    3.0\n",
       "2017-07-09  3.662330    3.0\n",
       "2017-07-16  3.729008    3.0\n",
       "2017-07-23  3.684784    5.0\n",
       "2017-07-30  3.595103    8.0\n",
       "2017-08-06  3.496820    4.0\n",
       "2017-08-13  3.396871    3.0\n",
       "2017-08-20  3.296573    3.0\n",
       "2017-08-27  3.196773    2.0\n",
       "2017-09-03  3.098249    2.0\n",
       "2017-09-10  3.001771    2.0\n",
       "2017-09-17  2.908131    5.0\n",
       "2017-09-24  2.818170    1.0"
      ]
     },
     "execution_count": 25,
     "metadata": {},
     "output_type": "execute_result"
    }
   ],
   "source": [
    "test[test.GRID_SQUARE == 33][['gp_pred','COUNT']]"
   ]
  },
  {
   "cell_type": "code",
   "execution_count": null,
   "metadata": {
    "collapsed": true
   },
   "outputs": [],
   "source": []
  }
 ],
 "metadata": {
  "kernelspec": {
   "display_name": "Python 3",
   "language": "python",
   "name": "python3"
  },
  "language_info": {
   "codemirror_mode": {
    "name": "ipython",
    "version": 3
   },
   "file_extension": ".py",
   "mimetype": "text/x-python",
   "name": "python",
   "nbconvert_exporter": "python",
   "pygments_lexer": "ipython3",
   "version": "3.5.4"
  }
 },
 "nbformat": 4,
 "nbformat_minor": 2
}
