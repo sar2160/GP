{
 "cells": [
  {
   "cell_type": "code",
   "execution_count": null,
   "metadata": {
    "collapsed": true
   },
   "outputs": [],
   "source": [
    "import pandas as pd\n",
    "import numpy as np\n",
    "import gpflow\n",
    "import matplotlib.pyplot as plt\n",
    "import pickle\n",
    "\n",
    "from utils import preprocess\n",
    "from models import Poisson_Model\n",
    "%matplotlib inline\n"
   ]
  },
  {
   "cell_type": "code",
   "execution_count": 43,
   "metadata": {},
   "outputs": [],
   "source": [
    "data = pd.read_csv('../data/gp_weekly_grid_parkslope.csv')\n",
    "data['DATETIME'] = pd.to_datetime(data['DATETIME'])\n",
    "\n",
    "X_train, y_train, X_test, y_test, train, test = preprocess(data, start_date= '2017/01/01',\\\n",
    "                                                      training_end_date='2017/12/31', \\\n",
    "                                                       testing_end_date='2018-02-28')\n",
    "\n",
    "e_s = (39.270244500000004 / data.GRID_SQUARE.max())"
   ]
  },
  {
   "cell_type": "code",
   "execution_count": 44,
   "metadata": {},
   "outputs": [
    {
     "data": {
      "text/html": [
       "<div>\n",
       "<style>\n",
       "    .dataframe thead tr:only-child th {\n",
       "        text-align: right;\n",
       "    }\n",
       "\n",
       "    .dataframe thead th {\n",
       "        text-align: left;\n",
       "    }\n",
       "\n",
       "    .dataframe tbody tr th {\n",
       "        vertical-align: top;\n",
       "    }\n",
       "</style>\n",
       "<table border=\"1\" class=\"dataframe\">\n",
       "  <thead>\n",
       "    <tr style=\"text-align: right;\">\n",
       "      <th></th>\n",
       "      <th>class</th>\n",
       "      <th>prior</th>\n",
       "      <th>transform</th>\n",
       "      <th>trainable</th>\n",
       "      <th>shape</th>\n",
       "      <th>fixed_shape</th>\n",
       "      <th>value</th>\n",
       "    </tr>\n",
       "  </thead>\n",
       "  <tbody>\n",
       "    <tr>\n",
       "      <th>VGP/q_sqrt</th>\n",
       "      <td>Parameter</td>\n",
       "      <td>None</td>\n",
       "      <td>LoTri-&gt;vec</td>\n",
       "      <td>True</td>\n",
       "      <td>(1, 2544, 2544)</td>\n",
       "      <td>True</td>\n",
       "      <td>[[[1.0, 0.0, 0.0, 0.0, 0.0, 0.0, 0.0, 0.0, 0.0...</td>\n",
       "    </tr>\n",
       "    <tr>\n",
       "      <th>VGP/q_mu</th>\n",
       "      <td>Parameter</td>\n",
       "      <td>None</td>\n",
       "      <td>(none)</td>\n",
       "      <td>True</td>\n",
       "      <td>(2544, 1)</td>\n",
       "      <td>True</td>\n",
       "      <td>[[0.0], [0.0], [0.0], [0.0], [0.0], [0.0], [0....</td>\n",
       "    </tr>\n",
       "    <tr>\n",
       "      <th>VGP/kern/periodic/period</th>\n",
       "      <td>Parameter</td>\n",
       "      <td>None</td>\n",
       "      <td>+ve</td>\n",
       "      <td>True</td>\n",
       "      <td>()</td>\n",
       "      <td>True</td>\n",
       "      <td>52.0</td>\n",
       "    </tr>\n",
       "    <tr>\n",
       "      <th>VGP/kern/periodic/lengthscales</th>\n",
       "      <td>Parameter</td>\n",
       "      <td>N([ 0.],[ 1.])</td>\n",
       "      <td>+ve</td>\n",
       "      <td>True</td>\n",
       "      <td>()</td>\n",
       "      <td>True</td>\n",
       "      <td>1.0</td>\n",
       "    </tr>\n",
       "    <tr>\n",
       "      <th>VGP/kern/periodic/variance</th>\n",
       "      <td>Parameter</td>\n",
       "      <td>N([ 0.],[ 1.])</td>\n",
       "      <td>+ve</td>\n",
       "      <td>True</td>\n",
       "      <td>()</td>\n",
       "      <td>True</td>\n",
       "      <td>1.0</td>\n",
       "    </tr>\n",
       "    <tr>\n",
       "      <th>VGP/kern/rbf_1/lengthscales</th>\n",
       "      <td>Parameter</td>\n",
       "      <td>N([ 0.],[ 1.])</td>\n",
       "      <td>+ve</td>\n",
       "      <td>True</td>\n",
       "      <td>()</td>\n",
       "      <td>True</td>\n",
       "      <td>1.0</td>\n",
       "    </tr>\n",
       "    <tr>\n",
       "      <th>VGP/kern/rbf_1/variance</th>\n",
       "      <td>Parameter</td>\n",
       "      <td>N([ 0.],[ 1.])</td>\n",
       "      <td>+ve</td>\n",
       "      <td>True</td>\n",
       "      <td>()</td>\n",
       "      <td>True</td>\n",
       "      <td>1.0</td>\n",
       "    </tr>\n",
       "    <tr>\n",
       "      <th>VGP/kern/rbf_2/lengthscales</th>\n",
       "      <td>Parameter</td>\n",
       "      <td>N([ 0.],[ 1.])</td>\n",
       "      <td>+ve</td>\n",
       "      <td>True</td>\n",
       "      <td>()</td>\n",
       "      <td>True</td>\n",
       "      <td>1.0</td>\n",
       "    </tr>\n",
       "    <tr>\n",
       "      <th>VGP/kern/rbf_2/variance</th>\n",
       "      <td>Parameter</td>\n",
       "      <td>N([ 0.],[ 1.])</td>\n",
       "      <td>+ve</td>\n",
       "      <td>True</td>\n",
       "      <td>()</td>\n",
       "      <td>True</td>\n",
       "      <td>1.0</td>\n",
       "    </tr>\n",
       "    <tr>\n",
       "      <th>VGP/kern/rbf_2/lengthscales</th>\n",
       "      <td>Parameter</td>\n",
       "      <td>N([ 0.],[ 1.])</td>\n",
       "      <td>+ve</td>\n",
       "      <td>True</td>\n",
       "      <td>()</td>\n",
       "      <td>True</td>\n",
       "      <td>1.0</td>\n",
       "    </tr>\n",
       "    <tr>\n",
       "      <th>VGP/kern/rbf_2/variance</th>\n",
       "      <td>Parameter</td>\n",
       "      <td>N([ 0.],[ 1.])</td>\n",
       "      <td>+ve</td>\n",
       "      <td>True</td>\n",
       "      <td>()</td>\n",
       "      <td>True</td>\n",
       "      <td>1.0</td>\n",
       "    </tr>\n",
       "    <tr>\n",
       "      <th>VGP/kern/rbf_1/lengthscales</th>\n",
       "      <td>Parameter</td>\n",
       "      <td>N([ 0.],[ 1.])</td>\n",
       "      <td>+ve</td>\n",
       "      <td>True</td>\n",
       "      <td>()</td>\n",
       "      <td>True</td>\n",
       "      <td>1.0</td>\n",
       "    </tr>\n",
       "    <tr>\n",
       "      <th>VGP/kern/rbf_1/variance</th>\n",
       "      <td>Parameter</td>\n",
       "      <td>N([ 0.],[ 1.])</td>\n",
       "      <td>+ve</td>\n",
       "      <td>True</td>\n",
       "      <td>()</td>\n",
       "      <td>True</td>\n",
       "      <td>1.0</td>\n",
       "    </tr>\n",
       "  </tbody>\n",
       "</table>\n",
       "</div>"
      ],
      "text/plain": [
       "                                    class           prior   transform  \\\n",
       "VGP/q_sqrt                      Parameter            None  LoTri->vec   \n",
       "VGP/q_mu                        Parameter            None      (none)   \n",
       "VGP/kern/periodic/period        Parameter            None         +ve   \n",
       "VGP/kern/periodic/lengthscales  Parameter  N([ 0.],[ 1.])         +ve   \n",
       "VGP/kern/periodic/variance      Parameter  N([ 0.],[ 1.])         +ve   \n",
       "VGP/kern/rbf_1/lengthscales     Parameter  N([ 0.],[ 1.])         +ve   \n",
       "VGP/kern/rbf_1/variance         Parameter  N([ 0.],[ 1.])         +ve   \n",
       "VGP/kern/rbf_2/lengthscales     Parameter  N([ 0.],[ 1.])         +ve   \n",
       "VGP/kern/rbf_2/variance         Parameter  N([ 0.],[ 1.])         +ve   \n",
       "VGP/kern/rbf_2/lengthscales     Parameter  N([ 0.],[ 1.])         +ve   \n",
       "VGP/kern/rbf_2/variance         Parameter  N([ 0.],[ 1.])         +ve   \n",
       "VGP/kern/rbf_1/lengthscales     Parameter  N([ 0.],[ 1.])         +ve   \n",
       "VGP/kern/rbf_1/variance         Parameter  N([ 0.],[ 1.])         +ve   \n",
       "\n",
       "                                trainable            shape  fixed_shape  \\\n",
       "VGP/q_sqrt                           True  (1, 2544, 2544)         True   \n",
       "VGP/q_mu                             True        (2544, 1)         True   \n",
       "VGP/kern/periodic/period             True               ()         True   \n",
       "VGP/kern/periodic/lengthscales       True               ()         True   \n",
       "VGP/kern/periodic/variance           True               ()         True   \n",
       "VGP/kern/rbf_1/lengthscales          True               ()         True   \n",
       "VGP/kern/rbf_1/variance              True               ()         True   \n",
       "VGP/kern/rbf_2/lengthscales          True               ()         True   \n",
       "VGP/kern/rbf_2/variance              True               ()         True   \n",
       "VGP/kern/rbf_2/lengthscales          True               ()         True   \n",
       "VGP/kern/rbf_2/variance              True               ()         True   \n",
       "VGP/kern/rbf_1/lengthscales          True               ()         True   \n",
       "VGP/kern/rbf_1/variance              True               ()         True   \n",
       "\n",
       "                                                                            value  \n",
       "VGP/q_sqrt                      [[[1.0, 0.0, 0.0, 0.0, 0.0, 0.0, 0.0, 0.0, 0.0...  \n",
       "VGP/q_mu                        [[0.0], [0.0], [0.0], [0.0], [0.0], [0.0], [0....  \n",
       "VGP/kern/periodic/period                                                     52.0  \n",
       "VGP/kern/periodic/lengthscales                                                1.0  \n",
       "VGP/kern/periodic/variance                                                    1.0  \n",
       "VGP/kern/rbf_1/lengthscales                                                   1.0  \n",
       "VGP/kern/rbf_1/variance                                                       1.0  \n",
       "VGP/kern/rbf_2/lengthscales                                                   1.0  \n",
       "VGP/kern/rbf_2/variance                                                       1.0  \n",
       "VGP/kern/rbf_2/lengthscales                                                   1.0  \n",
       "VGP/kern/rbf_2/variance                                                       1.0  \n",
       "VGP/kern/rbf_1/lengthscales                                                   1.0  \n",
       "VGP/kern/rbf_1/variance                                                       1.0  "
      ]
     },
     "execution_count": 44,
     "metadata": {},
     "output_type": "execute_result"
    }
   ],
   "source": [
    "m = Poisson_Model(X_train,y_train,use_priors=True, e_s= e_s, period = 52)\n",
    "\n",
    "m.as_pandas_table()"
   ]
  },
  {
   "cell_type": "code",
   "execution_count": 45,
   "metadata": {},
   "outputs": [
    {
     "data": {
      "text/plain": [
       "-16162.143270615488"
      ]
     },
     "execution_count": 45,
     "metadata": {},
     "output_type": "execute_result"
    }
   ],
   "source": [
    "m.compile()\n",
    "opt = gpflow.train.ScipyOptimizer()\n",
    "m.compute_log_likelihood()"
   ]
  },
  {
   "cell_type": "code",
   "execution_count": 46,
   "metadata": {},
   "outputs": [
    {
     "name": "stdout",
     "output_type": "stream",
     "text": [
      "INFO:tensorflow:Optimization terminated with:\n",
      "  Message: b'STOP: TOTAL NO. of ITERATIONS EXCEEDS LIMIT'\n",
      "  Objective function value: 2028.554715\n",
      "  Number of iterations: 1001\n",
      "  Number of functions evaluations: 1075\n"
     ]
    }
   ],
   "source": [
    "opt.minimize(m, maxiter = 1000)"
   ]
  },
  {
   "cell_type": "code",
   "execution_count": 47,
   "metadata": {},
   "outputs": [
    {
     "data": {
      "text/html": [
       "<div>\n",
       "<style>\n",
       "    .dataframe thead tr:only-child th {\n",
       "        text-align: right;\n",
       "    }\n",
       "\n",
       "    .dataframe thead th {\n",
       "        text-align: left;\n",
       "    }\n",
       "\n",
       "    .dataframe tbody tr th {\n",
       "        vertical-align: top;\n",
       "    }\n",
       "</style>\n",
       "<table border=\"1\" class=\"dataframe\">\n",
       "  <thead>\n",
       "    <tr style=\"text-align: right;\">\n",
       "      <th></th>\n",
       "      <th>class</th>\n",
       "      <th>prior</th>\n",
       "      <th>transform</th>\n",
       "      <th>trainable</th>\n",
       "      <th>shape</th>\n",
       "      <th>fixed_shape</th>\n",
       "      <th>value</th>\n",
       "    </tr>\n",
       "  </thead>\n",
       "  <tbody>\n",
       "    <tr>\n",
       "      <th>VGP/q_sqrt</th>\n",
       "      <td>Parameter</td>\n",
       "      <td>None</td>\n",
       "      <td>LoTri-&gt;vec</td>\n",
       "      <td>True</td>\n",
       "      <td>(1, 2544, 2544)</td>\n",
       "      <td>True</td>\n",
       "      <td>[[[0.535519046153, 0.0, 0.0, 0.0, 0.0, 0.0, 0....</td>\n",
       "    </tr>\n",
       "    <tr>\n",
       "      <th>VGP/q_mu</th>\n",
       "      <td>Parameter</td>\n",
       "      <td>None</td>\n",
       "      <td>(none)</td>\n",
       "      <td>True</td>\n",
       "      <td>(2544, 1)</td>\n",
       "      <td>True</td>\n",
       "      <td>[[-2.95835746319], [-0.146517658976], [0.41693...</td>\n",
       "    </tr>\n",
       "    <tr>\n",
       "      <th>VGP/kern/periodic/period</th>\n",
       "      <td>Parameter</td>\n",
       "      <td>None</td>\n",
       "      <td>+ve</td>\n",
       "      <td>True</td>\n",
       "      <td>()</td>\n",
       "      <td>True</td>\n",
       "      <td>68.72572473084789</td>\n",
       "    </tr>\n",
       "    <tr>\n",
       "      <th>VGP/kern/periodic/lengthscales</th>\n",
       "      <td>Parameter</td>\n",
       "      <td>N([ 0.],[ 1.])</td>\n",
       "      <td>+ve</td>\n",
       "      <td>True</td>\n",
       "      <td>()</td>\n",
       "      <td>True</td>\n",
       "      <td>1.1249007014458283</td>\n",
       "    </tr>\n",
       "    <tr>\n",
       "      <th>VGP/kern/periodic/variance</th>\n",
       "      <td>Parameter</td>\n",
       "      <td>N([ 0.],[ 1.])</td>\n",
       "      <td>+ve</td>\n",
       "      <td>True</td>\n",
       "      <td>()</td>\n",
       "      <td>True</td>\n",
       "      <td>1.0842967726257087</td>\n",
       "    </tr>\n",
       "    <tr>\n",
       "      <th>VGP/kern/rbf_1/lengthscales</th>\n",
       "      <td>Parameter</td>\n",
       "      <td>N([ 0.],[ 1.])</td>\n",
       "      <td>+ve</td>\n",
       "      <td>True</td>\n",
       "      <td>()</td>\n",
       "      <td>True</td>\n",
       "      <td>0.772724995991406</td>\n",
       "    </tr>\n",
       "    <tr>\n",
       "      <th>VGP/kern/rbf_1/variance</th>\n",
       "      <td>Parameter</td>\n",
       "      <td>N([ 0.],[ 1.])</td>\n",
       "      <td>+ve</td>\n",
       "      <td>True</td>\n",
       "      <td>()</td>\n",
       "      <td>True</td>\n",
       "      <td>0.026600227491910006</td>\n",
       "    </tr>\n",
       "    <tr>\n",
       "      <th>VGP/kern/rbf_2/lengthscales</th>\n",
       "      <td>Parameter</td>\n",
       "      <td>N([ 0.],[ 1.])</td>\n",
       "      <td>+ve</td>\n",
       "      <td>True</td>\n",
       "      <td>()</td>\n",
       "      <td>True</td>\n",
       "      <td>0.11473082239560584</td>\n",
       "    </tr>\n",
       "    <tr>\n",
       "      <th>VGP/kern/rbf_2/variance</th>\n",
       "      <td>Parameter</td>\n",
       "      <td>N([ 0.],[ 1.])</td>\n",
       "      <td>+ve</td>\n",
       "      <td>True</td>\n",
       "      <td>()</td>\n",
       "      <td>True</td>\n",
       "      <td>2.0277149761858695</td>\n",
       "    </tr>\n",
       "    <tr>\n",
       "      <th>VGP/kern/rbf_2/lengthscales</th>\n",
       "      <td>Parameter</td>\n",
       "      <td>N([ 0.],[ 1.])</td>\n",
       "      <td>+ve</td>\n",
       "      <td>True</td>\n",
       "      <td>()</td>\n",
       "      <td>True</td>\n",
       "      <td>0.11473082239560584</td>\n",
       "    </tr>\n",
       "    <tr>\n",
       "      <th>VGP/kern/rbf_2/variance</th>\n",
       "      <td>Parameter</td>\n",
       "      <td>N([ 0.],[ 1.])</td>\n",
       "      <td>+ve</td>\n",
       "      <td>True</td>\n",
       "      <td>()</td>\n",
       "      <td>True</td>\n",
       "      <td>2.0277149761858695</td>\n",
       "    </tr>\n",
       "    <tr>\n",
       "      <th>VGP/kern/rbf_1/lengthscales</th>\n",
       "      <td>Parameter</td>\n",
       "      <td>N([ 0.],[ 1.])</td>\n",
       "      <td>+ve</td>\n",
       "      <td>True</td>\n",
       "      <td>()</td>\n",
       "      <td>True</td>\n",
       "      <td>0.772724995991406</td>\n",
       "    </tr>\n",
       "    <tr>\n",
       "      <th>VGP/kern/rbf_1/variance</th>\n",
       "      <td>Parameter</td>\n",
       "      <td>N([ 0.],[ 1.])</td>\n",
       "      <td>+ve</td>\n",
       "      <td>True</td>\n",
       "      <td>()</td>\n",
       "      <td>True</td>\n",
       "      <td>0.026600227491910006</td>\n",
       "    </tr>\n",
       "  </tbody>\n",
       "</table>\n",
       "</div>"
      ],
      "text/plain": [
       "                                    class           prior   transform  \\\n",
       "VGP/q_sqrt                      Parameter            None  LoTri->vec   \n",
       "VGP/q_mu                        Parameter            None      (none)   \n",
       "VGP/kern/periodic/period        Parameter            None         +ve   \n",
       "VGP/kern/periodic/lengthscales  Parameter  N([ 0.],[ 1.])         +ve   \n",
       "VGP/kern/periodic/variance      Parameter  N([ 0.],[ 1.])         +ve   \n",
       "VGP/kern/rbf_1/lengthscales     Parameter  N([ 0.],[ 1.])         +ve   \n",
       "VGP/kern/rbf_1/variance         Parameter  N([ 0.],[ 1.])         +ve   \n",
       "VGP/kern/rbf_2/lengthscales     Parameter  N([ 0.],[ 1.])         +ve   \n",
       "VGP/kern/rbf_2/variance         Parameter  N([ 0.],[ 1.])         +ve   \n",
       "VGP/kern/rbf_2/lengthscales     Parameter  N([ 0.],[ 1.])         +ve   \n",
       "VGP/kern/rbf_2/variance         Parameter  N([ 0.],[ 1.])         +ve   \n",
       "VGP/kern/rbf_1/lengthscales     Parameter  N([ 0.],[ 1.])         +ve   \n",
       "VGP/kern/rbf_1/variance         Parameter  N([ 0.],[ 1.])         +ve   \n",
       "\n",
       "                                trainable            shape  fixed_shape  \\\n",
       "VGP/q_sqrt                           True  (1, 2544, 2544)         True   \n",
       "VGP/q_mu                             True        (2544, 1)         True   \n",
       "VGP/kern/periodic/period             True               ()         True   \n",
       "VGP/kern/periodic/lengthscales       True               ()         True   \n",
       "VGP/kern/periodic/variance           True               ()         True   \n",
       "VGP/kern/rbf_1/lengthscales          True               ()         True   \n",
       "VGP/kern/rbf_1/variance              True               ()         True   \n",
       "VGP/kern/rbf_2/lengthscales          True               ()         True   \n",
       "VGP/kern/rbf_2/variance              True               ()         True   \n",
       "VGP/kern/rbf_2/lengthscales          True               ()         True   \n",
       "VGP/kern/rbf_2/variance              True               ()         True   \n",
       "VGP/kern/rbf_1/lengthscales          True               ()         True   \n",
       "VGP/kern/rbf_1/variance              True               ()         True   \n",
       "\n",
       "                                                                            value  \n",
       "VGP/q_sqrt                      [[[0.535519046153, 0.0, 0.0, 0.0, 0.0, 0.0, 0....  \n",
       "VGP/q_mu                        [[-2.95835746319], [-0.146517658976], [0.41693...  \n",
       "VGP/kern/periodic/period                                        68.72572473084789  \n",
       "VGP/kern/periodic/lengthscales                                 1.1249007014458283  \n",
       "VGP/kern/periodic/variance                                     1.0842967726257087  \n",
       "VGP/kern/rbf_1/lengthscales                                     0.772724995991406  \n",
       "VGP/kern/rbf_1/variance                                      0.026600227491910006  \n",
       "VGP/kern/rbf_2/lengthscales                                   0.11473082239560584  \n",
       "VGP/kern/rbf_2/variance                                        2.0277149761858695  \n",
       "VGP/kern/rbf_2/lengthscales                                   0.11473082239560584  \n",
       "VGP/kern/rbf_2/variance                                        2.0277149761858695  \n",
       "VGP/kern/rbf_1/lengthscales                                     0.772724995991406  \n",
       "VGP/kern/rbf_1/variance                                      0.026600227491910006  "
      ]
     },
     "execution_count": 47,
     "metadata": {},
     "output_type": "execute_result"
    }
   ],
   "source": [
    "m.as_pandas_table()"
   ]
  },
  {
   "cell_type": "code",
   "execution_count": 51,
   "metadata": {},
   "outputs": [],
   "source": [
    "pred = m.predict_y(X_test)\n",
    "test['pred'] = pred[0]"
   ]
  },
  {
   "cell_type": "code",
   "execution_count": 52,
   "metadata": {},
   "outputs": [
    {
     "data": {
      "text/plain": [
       "GRID_SQUARE\n",
       "33.0    40.0\n",
       "44.0    16.0\n",
       "21.0    15.0\n",
       "12.0    13.0\n",
       "38.0    12.0\n",
       "Name: COUNT, dtype: float64"
      ]
     },
     "execution_count": 52,
     "metadata": {},
     "output_type": "execute_result"
    }
   ],
   "source": [
    "test.groupby('GRID_SQUARE')['COUNT'].sum().sort_values(ascending = False).head()"
   ]
  },
  {
   "cell_type": "code",
   "execution_count": 53,
   "metadata": {},
   "outputs": [
    {
     "data": {
      "text/plain": [
       "<matplotlib.axes._subplots.AxesSubplot at 0x7f499f650c88>"
      ]
     },
     "execution_count": 53,
     "metadata": {},
     "output_type": "execute_result"
    },
    {
     "data": {
      "image/png": "[encoded data removed]",
      "text/plain": [
       "<matplotlib.figure.Figure at 0x7f498fdc4208>"
      ]
     },
     "metadata": {},
     "output_type": "display_data"
    }
   ],
   "source": [
    "test[test.GRID_SQUARE == 33][['pred','COUNT']].plot()"
   ]
  },
  {
   "cell_type": "code",
   "execution_count": 54,
   "metadata": {},
   "outputs": [
    {
     "data": {
      "text/plain": [
       "<matplotlib.axes._subplots.AxesSubplot at 0x7f499f650c50>"
      ]
     },
     "execution_count": 54,
     "metadata": {},
     "output_type": "execute_result"
    },
    {
     "data": {
      "image/png": "[encoded data removed]",
      "text/plain": [
       "<matplotlib.figure.Figure at 0x7f49a4fbd400>"
      ]
     },
     "metadata": {},
     "output_type": "display_data"
    }
   ],
   "source": [
    "test.groupby(level = [0]).sum()[['pred','COUNT']].plot()"
   ]
  },
  {
   "cell_type": "code",
   "execution_count": 55,
   "metadata": {},
   "outputs": [
    {
     "data": {
      "text/plain": [
       "<matplotlib.axes._subplots.AxesSubplot at 0x7f498e3790b8>"
      ]
     },
     "execution_count": 55,
     "metadata": {},
     "output_type": "execute_result"
    },
    {
     "data": {
      "image/png": "[encoded data removed]",
      "text/plain": [
       "<matplotlib.figure.Figure at 0x7f498e391160>"
      ]
     },
     "metadata": {},
     "output_type": "display_data"
    }
   ],
   "source": [
    "data.groupby('DATETIME')['COUNT'].sum().plot()"
   ]
  },
  {
   "cell_type": "code",
   "execution_count": null,
   "metadata": {},
   "outputs": [],
   "source": [
    "pred[1].shape"
   ]
  },
  {
   "cell_type": "code",
   "execution_count": null,
   "metadata": {},
   "outputs": [],
   "source": [
    "plotter = pd.DataFrame()\n",
    "\n",
    "plotter['pred'] = np.reshape(pred[0], (len(pred[0],)))\n",
    "plotter['y_test'] = y_test"
   ]
  },
  {
   "cell_type": "code",
   "execution_count": null,
   "metadata": {},
   "outputs": [],
   "source": [
    "plotter.plot()"
   ]
  }
 ],
 "metadata": {
  "kernelspec": {
   "display_name": "Python 3",
   "language": "python",
   "name": "python3"
  },
  "language_info": {
   "codemirror_mode": {
    "name": "ipython",
    "version": 3
   },
   "file_extension": ".py",
   "mimetype": "text/x-python",
   "name": "python",
   "nbconvert_exporter": "python",
   "pygments_lexer": "ipython3",
   "version": "3.5.4"
  }
 },
 "nbformat": 4,
 "nbformat_minor": 2
}
